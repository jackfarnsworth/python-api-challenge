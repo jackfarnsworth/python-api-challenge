{
 "cells": [
  {
   "cell_type": "code",
   "execution_count": 66,
   "metadata": {},
   "outputs": [],
   "source": [
    "import gmaps\n",
    "import pandas as pd\n",
    "import requests\n",
    "import json\n",
    "\n",
    "# Google developer API key\n",
    "from api_keys import g_key\n",
    "from pprint import pprint\n",
    "\n",
    "# Configure gmaps\n",
    "gmaps.configure(api_key=g_key)"
   ]
  },
  {
   "cell_type": "code",
   "execution_count": 67,
   "metadata": {},
   "outputs": [
    {
     "data": {
      "text/html": [
       "<div>\n",
       "<style scoped>\n",
       "    .dataframe tbody tr th:only-of-type {\n",
       "        vertical-align: middle;\n",
       "    }\n",
       "\n",
       "    .dataframe tbody tr th {\n",
       "        vertical-align: top;\n",
       "    }\n",
       "\n",
       "    .dataframe thead th {\n",
       "        text-align: right;\n",
       "    }\n",
       "</style>\n",
       "<table border=\"1\" class=\"dataframe\">\n",
       "  <thead>\n",
       "    <tr style=\"text-align: right;\">\n",
       "      <th></th>\n",
       "      <th>City</th>\n",
       "      <th>Longitude</th>\n",
       "      <th>Latitude</th>\n",
       "      <th>Max Temperature</th>\n",
       "      <th>Humidity</th>\n",
       "      <th>Cloudiness</th>\n",
       "      <th>Wind Speed</th>\n",
       "    </tr>\n",
       "  </thead>\n",
       "  <tbody>\n",
       "    <tr>\n",
       "      <th>0</th>\n",
       "      <td>merauke</td>\n",
       "      <td>140.3333</td>\n",
       "      <td>-8.4667</td>\n",
       "      <td>86.76</td>\n",
       "      <td>64</td>\n",
       "      <td>100</td>\n",
       "      <td>6.69</td>\n",
       "    </tr>\n",
       "    <tr>\n",
       "      <th>1</th>\n",
       "      <td>yarada</td>\n",
       "      <td>83.2667</td>\n",
       "      <td>17.6500</td>\n",
       "      <td>77.32</td>\n",
       "      <td>69</td>\n",
       "      <td>75</td>\n",
       "      <td>2.30</td>\n",
       "    </tr>\n",
       "    <tr>\n",
       "      <th>2</th>\n",
       "      <td>marathon</td>\n",
       "      <td>-89.7668</td>\n",
       "      <td>44.9000</td>\n",
       "      <td>12.72</td>\n",
       "      <td>70</td>\n",
       "      <td>0</td>\n",
       "      <td>1.01</td>\n",
       "    </tr>\n",
       "    <tr>\n",
       "      <th>3</th>\n",
       "      <td>punta arenas</td>\n",
       "      <td>-70.9167</td>\n",
       "      <td>-53.1500</td>\n",
       "      <td>50.11</td>\n",
       "      <td>76</td>\n",
       "      <td>40</td>\n",
       "      <td>21.85</td>\n",
       "    </tr>\n",
       "    <tr>\n",
       "      <th>4</th>\n",
       "      <td>touros</td>\n",
       "      <td>-35.4608</td>\n",
       "      <td>-5.1989</td>\n",
       "      <td>76.10</td>\n",
       "      <td>79</td>\n",
       "      <td>100</td>\n",
       "      <td>10.00</td>\n",
       "    </tr>\n",
       "  </tbody>\n",
       "</table>\n",
       "</div>"
      ],
      "text/plain": [
       "           City  Longitude  Latitude  Max Temperature  Humidity  Cloudiness  \\\n",
       "0       merauke   140.3333   -8.4667            86.76        64         100   \n",
       "1        yarada    83.2667   17.6500            77.32        69          75   \n",
       "2      marathon   -89.7668   44.9000            12.72        70           0   \n",
       "3  punta arenas   -70.9167  -53.1500            50.11        76          40   \n",
       "4        touros   -35.4608   -5.1989            76.10        79         100   \n",
       "\n",
       "   Wind Speed  \n",
       "0        6.69  \n",
       "1        2.30  \n",
       "2        1.01  \n",
       "3       21.85  \n",
       "4       10.00  "
      ]
     },
     "execution_count": 67,
     "metadata": {},
     "output_type": "execute_result"
    }
   ],
   "source": [
    "cw_df = pd.read_csv('City_Weather.csv')\n",
    "cw_df.head()"
   ]
  },
  {
   "cell_type": "code",
   "execution_count": 68,
   "metadata": {},
   "outputs": [
    {
     "data": {
      "application/vnd.jupyter.widget-view+json": {
       "model_id": "5d867021802649de8791b220b697d531",
       "version_major": 2,
       "version_minor": 0
      },
      "text/plain": [
       "Figure(layout=FigureLayout(height='420px'))"
      ]
     },
     "metadata": {},
     "output_type": "display_data"
    }
   ],
   "source": [
    "locs = cw_df[[\"Latitude\", \"Longitude\"]]\n",
    "humidity = cw_df[\"Humidity\"]\n",
    "fig = gmaps.figure()\n",
    "heat_layer = gmaps.heatmap_layer(locs, weights=humidity, \n",
    "                                 dissipating=False,\n",
    "                                 point_radius=5)\n",
    "fig.add_layer(heat_layer)\n",
    "fig"
   ]
  },
  {
   "cell_type": "code",
   "execution_count": 119,
   "metadata": {},
   "outputs": [
    {
     "data": {
      "text/html": [
       "<div>\n",
       "<style scoped>\n",
       "    .dataframe tbody tr th:only-of-type {\n",
       "        vertical-align: middle;\n",
       "    }\n",
       "\n",
       "    .dataframe tbody tr th {\n",
       "        vertical-align: top;\n",
       "    }\n",
       "\n",
       "    .dataframe thead th {\n",
       "        text-align: right;\n",
       "    }\n",
       "</style>\n",
       "<table border=\"1\" class=\"dataframe\">\n",
       "  <thead>\n",
       "    <tr style=\"text-align: right;\">\n",
       "      <th></th>\n",
       "      <th>City</th>\n",
       "      <th>Longitude</th>\n",
       "      <th>Latitude</th>\n",
       "      <th>Max Temperature</th>\n",
       "      <th>Humidity</th>\n",
       "      <th>Cloudiness</th>\n",
       "      <th>Wind Speed</th>\n",
       "    </tr>\n",
       "  </thead>\n",
       "  <tbody>\n",
       "    <tr>\n",
       "      <th>42</th>\n",
       "      <td>hilo</td>\n",
       "      <td>115.3333</td>\n",
       "      <td>-33.6500</td>\n",
       "      <td>79.09</td>\n",
       "      <td>34</td>\n",
       "      <td>0</td>\n",
       "      <td>4.74</td>\n",
       "    </tr>\n",
       "    <tr>\n",
       "      <th>54</th>\n",
       "      <td>bluff</td>\n",
       "      <td>-81.4167</td>\n",
       "      <td>19.3667</td>\n",
       "      <td>78.01</td>\n",
       "      <td>86</td>\n",
       "      <td>3</td>\n",
       "      <td>1.01</td>\n",
       "    </tr>\n",
       "    <tr>\n",
       "      <th>119</th>\n",
       "      <td>muli</td>\n",
       "      <td>-40.2925</td>\n",
       "      <td>-20.3297</td>\n",
       "      <td>74.95</td>\n",
       "      <td>84</td>\n",
       "      <td>0</td>\n",
       "      <td>1.01</td>\n",
       "    </tr>\n",
       "    <tr>\n",
       "      <th>232</th>\n",
       "      <td>haines junction</td>\n",
       "      <td>-61.7485</td>\n",
       "      <td>12.0564</td>\n",
       "      <td>75.96</td>\n",
       "      <td>80</td>\n",
       "      <td>7</td>\n",
       "      <td>9.01</td>\n",
       "    </tr>\n",
       "    <tr>\n",
       "      <th>248</th>\n",
       "      <td>lubango</td>\n",
       "      <td>49.1816</td>\n",
       "      <td>11.2842</td>\n",
       "      <td>71.37</td>\n",
       "      <td>69</td>\n",
       "      <td>5</td>\n",
       "      <td>2.82</td>\n",
       "    </tr>\n",
       "    <tr>\n",
       "      <th>255</th>\n",
       "      <td>maceio</td>\n",
       "      <td>92.3058</td>\n",
       "      <td>20.8624</td>\n",
       "      <td>75.09</td>\n",
       "      <td>51</td>\n",
       "      <td>0</td>\n",
       "      <td>4.45</td>\n",
       "    </tr>\n",
       "    <tr>\n",
       "      <th>267</th>\n",
       "      <td>bosaso</td>\n",
       "      <td>2.4183</td>\n",
       "      <td>6.3654</td>\n",
       "      <td>75.92</td>\n",
       "      <td>80</td>\n",
       "      <td>0</td>\n",
       "      <td>3.60</td>\n",
       "    </tr>\n",
       "    <tr>\n",
       "      <th>399</th>\n",
       "      <td>jaipur hat</td>\n",
       "      <td>-1.7554</td>\n",
       "      <td>4.8845</td>\n",
       "      <td>77.41</td>\n",
       "      <td>88</td>\n",
       "      <td>1</td>\n",
       "      <td>4.23</td>\n",
       "    </tr>\n",
       "    <tr>\n",
       "      <th>402</th>\n",
       "      <td>novyy urengoy</td>\n",
       "      <td>-72.2660</td>\n",
       "      <td>11.7139</td>\n",
       "      <td>73.44</td>\n",
       "      <td>78</td>\n",
       "      <td>4</td>\n",
       "      <td>5.19</td>\n",
       "    </tr>\n",
       "  </tbody>\n",
       "</table>\n",
       "</div>"
      ],
      "text/plain": [
       "                City  Longitude  Latitude  Max Temperature  Humidity  \\\n",
       "42              hilo   115.3333  -33.6500            79.09        34   \n",
       "54             bluff   -81.4167   19.3667            78.01        86   \n",
       "119             muli   -40.2925  -20.3297            74.95        84   \n",
       "232  haines junction   -61.7485   12.0564            75.96        80   \n",
       "248          lubango    49.1816   11.2842            71.37        69   \n",
       "255           maceio    92.3058   20.8624            75.09        51   \n",
       "267           bosaso     2.4183    6.3654            75.92        80   \n",
       "399       jaipur hat    -1.7554    4.8845            77.41        88   \n",
       "402    novyy urengoy   -72.2660   11.7139            73.44        78   \n",
       "\n",
       "     Cloudiness  Wind Speed  \n",
       "42            0        4.74  \n",
       "54            3        1.01  \n",
       "119           0        1.01  \n",
       "232           7        9.01  \n",
       "248           5        2.82  \n",
       "255           0        4.45  \n",
       "267           0        3.60  \n",
       "399           1        4.23  \n",
       "402           4        5.19  "
      ]
     },
     "execution_count": 119,
     "metadata": {},
     "output_type": "execute_result"
    }
   ],
   "source": [
    "good_df = cw_df.loc[(cw_df['Max Temperature'] > 70) & (cw_df['Max Temperature'] < 80) \\\n",
    "                                          & (cw_df['Wind Speed'] < 10) \\\n",
    "                                          & (cw_df['Cloudiness'] < 10)]\n",
    "good_df"
   ]
  },
  {
   "cell_type": "code",
   "execution_count": 120,
   "metadata": {
    "scrolled": true
   },
   "outputs": [],
   "source": [
    "base_url = \"https://maps.googleapis.com/maps/api/place/nearbysearch/json\"\n",
    "params = {\n",
    "    \"location\" : None,\n",
    "    \"radius\" : 5000,\n",
    "    \"keyword\" : \"hotel\",\n",
    "    \"key\" : g_key\n",
    "}\n"
   ]
  },
  {
   "cell_type": "code",
   "execution_count": 126,
   "metadata": {
    "scrolled": false
   },
   "outputs": [
    {
     "data": {
      "text/plain": [
       "[(-33.6466789, 115.3453292),\n",
       " (19.338348, -81.378511),\n",
       " (-20.3156731, -40.29602550000001),\n",
       " (12.0254792, -61.75718959999999),\n",
       " (11.2679286, 49.1842457),\n",
       " (20.8481779, 92.2730957),\n",
       " (6.3577069, 2.3715477),\n",
       " (4.881883, -1.7551408),\n",
       " (11.7130861, -72.265197)]"
      ]
     },
     "execution_count": 126,
     "metadata": {},
     "output_type": "execute_result"
    }
   ],
   "source": [
    "coords = []\n",
    "hotel_info = []\n",
    "for index, row in good_df.iterrows():\n",
    "    params['location'] = f\"{row['Latitude']},{row['Longitude']}\"\n",
    "    hotel = requests.get(base_url, params=params).json()\n",
    "    try:\n",
    "        hotel_info.append({'name' : hotel['results'][0]['name'], 'city' : row['City'].title()})\n",
    "        coords.append((hotel['results'][0]['geometry']['location']['lat'],hotel['results'][0]['geometry']['location']['lng']))\n",
    "    except:\n",
    "        print(\"Missing field/result... skipping.\")\n",
    "coords"
   ]
  },
  {
   "cell_type": "code",
   "execution_count": 128,
   "metadata": {},
   "outputs": [
    {
     "data": {
      "text/plain": [
       "[{'name': 'Esplanade Hotel', 'city': 'Hilo'},\n",
       " {'name': 'Sunshine Suites Resort', 'city': 'Bluff'},\n",
       " {'name': 'Hotel Golden Tulip Porto Vitória', 'city': 'Muli'},\n",
       " {'name': 'Radisson Grenada Beach Resort', 'city': 'Haines Junction'},\n",
       " {'name': 'Hotel Ramada', 'city': 'Lubango'},\n",
       " {'name': 'Central Resort Ltd.', 'city': 'Maceio'},\n",
       " {'name': 'Sun Beach Hôtel', 'city': 'Bosaso'},\n",
       " {'name': 'Best Western Plus Atlantic Hotel.', 'city': 'Jaipur Hat'},\n",
       " {'name': 'Hotel Juyasirain', 'city': 'Novyy Urengoy'}]"
      ]
     },
     "execution_count": 128,
     "metadata": {},
     "output_type": "execute_result"
    }
   ],
   "source": [
    "hotel_info"
   ]
  },
  {
   "cell_type": "code",
   "execution_count": 131,
   "metadata": {},
   "outputs": [
    {
     "data": {
      "application/vnd.jupyter.widget-view+json": {
       "model_id": "5d867021802649de8791b220b697d531",
       "version_major": 2,
       "version_minor": 0
      },
      "text/plain": [
       "Figure(layout=FigureLayout(height='420px'))"
      ]
     },
     "metadata": {},
     "output_type": "display_data"
    }
   ],
   "source": [
    "info_box_template = \"\"\"\n",
    "<dl>\n",
    "<dt>Hotel Name</dt><dd>{name}</dd>\n",
    "<dt>City</dt><dd>{city}</dd>\n",
    "</dl>\n",
    "\"\"\"\n",
    "info_box = [info_box_template.format(**hotel) for hotel in hotel_info]\n",
    "markers = gmaps.marker_layer(coords, info_box_content=info_box)\n",
    "fig.add_layer(markers)\n",
    "fig"
   ]
  },
  {
   "cell_type": "code",
   "execution_count": 95,
   "metadata": {},
   "outputs": [
    {
     "name": "stdout",
     "output_type": "stream",
     "text": [
      "Hyatt Place Boise/Downtown\n",
      "1024 W Bannock St, Boise\n"
     ]
    }
   ],
   "source": [
    "print(hotels[\"results\"][0][\"name\"])\n",
    "print(hotels[\"results\"][0][\"vicinity\"])"
   ]
  },
  {
   "cell_type": "code",
   "execution_count": null,
   "metadata": {},
   "outputs": [],
   "source": []
  }
 ],
 "metadata": {
  "kernelspec": {
   "display_name": "Python [conda env:pythondata] *",
   "language": "python",
   "name": "conda-env-pythondata-py"
  },
  "language_info": {
   "codemirror_mode": {
    "name": "ipython",
    "version": 3
   },
   "file_extension": ".py",
   "mimetype": "text/x-python",
   "name": "python",
   "nbconvert_exporter": "python",
   "pygments_lexer": "ipython3",
   "version": "3.6.10"
  }
 },
 "nbformat": 4,
 "nbformat_minor": 4
}
