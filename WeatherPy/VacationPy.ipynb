{
 "cells": [
  {
   "cell_type": "code",
   "execution_count": 15,
   "metadata": {},
   "outputs": [],
   "source": [
    "import gmaps\n",
    "import pandas as pd\n",
    "import requests\n",
    "import json\n",
    "\n",
    "# Google developer API key\n",
    "from api_keys import g_key\n",
    "from pprint import pprint\n",
    "\n",
    "# Configure gmaps\n",
    "gmaps.configure(api_key=g_key)"
   ]
  },
  {
   "cell_type": "code",
   "execution_count": 16,
   "metadata": {
    "scrolled": false
   },
   "outputs": [
    {
     "data": {
      "text/html": [
       "<div>\n",
       "<style scoped>\n",
       "    .dataframe tbody tr th:only-of-type {\n",
       "        vertical-align: middle;\n",
       "    }\n",
       "\n",
       "    .dataframe tbody tr th {\n",
       "        vertical-align: top;\n",
       "    }\n",
       "\n",
       "    .dataframe thead th {\n",
       "        text-align: right;\n",
       "    }\n",
       "</style>\n",
       "<table border=\"1\" class=\"dataframe\">\n",
       "  <thead>\n",
       "    <tr style=\"text-align: right;\">\n",
       "      <th></th>\n",
       "      <th>City</th>\n",
       "      <th>Longitude</th>\n",
       "      <th>Latitude</th>\n",
       "      <th>Max Temperature</th>\n",
       "      <th>Humidity</th>\n",
       "      <th>Cloudiness</th>\n",
       "      <th>Wind Speed</th>\n",
       "      <th>Country</th>\n",
       "      <th>Date Time</th>\n",
       "    </tr>\n",
       "  </thead>\n",
       "  <tbody>\n",
       "    <tr>\n",
       "      <th>0</th>\n",
       "      <td>katsuura</td>\n",
       "      <td>140.3000</td>\n",
       "      <td>35.1333</td>\n",
       "      <td>39.31</td>\n",
       "      <td>45</td>\n",
       "      <td>31</td>\n",
       "      <td>19.39</td>\n",
       "      <td>JP</td>\n",
       "      <td>1643751097</td>\n",
       "    </tr>\n",
       "    <tr>\n",
       "      <th>1</th>\n",
       "      <td>puerto ayora</td>\n",
       "      <td>-90.3518</td>\n",
       "      <td>-0.7393</td>\n",
       "      <td>80.56</td>\n",
       "      <td>91</td>\n",
       "      <td>71</td>\n",
       "      <td>5.01</td>\n",
       "      <td>EC</td>\n",
       "      <td>1643751098</td>\n",
       "    </tr>\n",
       "    <tr>\n",
       "      <th>2</th>\n",
       "      <td>ancud</td>\n",
       "      <td>-73.8203</td>\n",
       "      <td>-41.8697</td>\n",
       "      <td>65.73</td>\n",
       "      <td>83</td>\n",
       "      <td>100</td>\n",
       "      <td>7.99</td>\n",
       "      <td>CL</td>\n",
       "      <td>1643751098</td>\n",
       "    </tr>\n",
       "    <tr>\n",
       "      <th>3</th>\n",
       "      <td>barcelos</td>\n",
       "      <td>-8.6151</td>\n",
       "      <td>41.5388</td>\n",
       "      <td>60.94</td>\n",
       "      <td>72</td>\n",
       "      <td>0</td>\n",
       "      <td>5.84</td>\n",
       "      <td>PT</td>\n",
       "      <td>1643751098</td>\n",
       "    </tr>\n",
       "    <tr>\n",
       "      <th>4</th>\n",
       "      <td>sao jose de ribamar</td>\n",
       "      <td>-44.0542</td>\n",
       "      <td>-2.5619</td>\n",
       "      <td>84.58</td>\n",
       "      <td>78</td>\n",
       "      <td>60</td>\n",
       "      <td>14.83</td>\n",
       "      <td>BR</td>\n",
       "      <td>1643751099</td>\n",
       "    </tr>\n",
       "  </tbody>\n",
       "</table>\n",
       "</div>"
      ],
      "text/plain": [
       "                  City  Longitude  Latitude  Max Temperature  Humidity  \\\n",
       "0             katsuura   140.3000   35.1333            39.31        45   \n",
       "1         puerto ayora   -90.3518   -0.7393            80.56        91   \n",
       "2                ancud   -73.8203  -41.8697            65.73        83   \n",
       "3             barcelos    -8.6151   41.5388            60.94        72   \n",
       "4  sao jose de ribamar   -44.0542   -2.5619            84.58        78   \n",
       "\n",
       "   Cloudiness  Wind Speed Country   Date Time  \n",
       "0          31       19.39      JP  1643751097  \n",
       "1          71        5.01      EC  1643751098  \n",
       "2         100        7.99      CL  1643751098  \n",
       "3           0        5.84      PT  1643751098  \n",
       "4          60       14.83      BR  1643751099  "
      ]
     },
     "execution_count": 16,
     "metadata": {},
     "output_type": "execute_result"
    }
   ],
   "source": [
    "cw_df = pd.read_csv('output_data/cities.csv')\n",
    "cw_df.head()"
   ]
  },
  {
   "cell_type": "code",
   "execution_count": 86,
   "metadata": {
    "scrolled": true
   },
   "outputs": [
    {
     "data": {
      "application/vnd.jupyter.widget-view+json": {
       "model_id": "4a3067d8df90490fab02f8806b128262",
       "version_major": 2,
       "version_minor": 0
      },
      "text/plain": [
       "Figure(layout=FigureLayout(height='600px', width='900px'))"
      ]
     },
     "metadata": {},
     "output_type": "display_data"
    }
   ],
   "source": [
    "locs = cw_df[[\"Latitude\", \"Longitude\"]]\n",
    "humidity = cw_df[\"Humidity\"]\n",
    "fig = gmaps.figure(layout={'width': '900px', 'height': '600px'})\n",
    "heat_layer = gmaps.heatmap_layer(locs, weights=humidity, \n",
    "                                 dissipating=False,\n",
    "                                 point_radius=6)\n",
    "fig.add_layer(heat_layer)\n",
    "fig"
   ]
  },
  {
   "cell_type": "code",
   "execution_count": 75,
   "metadata": {},
   "outputs": [
    {
     "data": {
      "text/html": [
       "<div>\n",
       "<style scoped>\n",
       "    .dataframe tbody tr th:only-of-type {\n",
       "        vertical-align: middle;\n",
       "    }\n",
       "\n",
       "    .dataframe tbody tr th {\n",
       "        vertical-align: top;\n",
       "    }\n",
       "\n",
       "    .dataframe thead th {\n",
       "        text-align: right;\n",
       "    }\n",
       "</style>\n",
       "<table border=\"1\" class=\"dataframe\">\n",
       "  <thead>\n",
       "    <tr style=\"text-align: right;\">\n",
       "      <th></th>\n",
       "      <th>City</th>\n",
       "      <th>Country</th>\n",
       "      <th>Longitude</th>\n",
       "      <th>Latitude</th>\n",
       "    </tr>\n",
       "  </thead>\n",
       "  <tbody>\n",
       "    <tr>\n",
       "      <th>119</th>\n",
       "      <td>vila velha</td>\n",
       "      <td>SN</td>\n",
       "      <td>-14.9500</td>\n",
       "      <td>12.8833</td>\n",
       "    </tr>\n",
       "    <tr>\n",
       "      <th>159</th>\n",
       "      <td>padang</td>\n",
       "      <td>MX</td>\n",
       "      <td>-109.9124</td>\n",
       "      <td>22.8909</td>\n",
       "    </tr>\n",
       "    <tr>\n",
       "      <th>204</th>\n",
       "      <td>lasa</td>\n",
       "      <td>MX</td>\n",
       "      <td>-100.5167</td>\n",
       "      <td>28.7000</td>\n",
       "    </tr>\n",
       "    <tr>\n",
       "      <th>258</th>\n",
       "      <td>uberaba</td>\n",
       "      <td>NG</td>\n",
       "      <td>3.8500</td>\n",
       "      <td>9.0833</td>\n",
       "    </tr>\n",
       "    <tr>\n",
       "      <th>317</th>\n",
       "      <td>geraldton</td>\n",
       "      <td>US</td>\n",
       "      <td>-97.5169</td>\n",
       "      <td>28.0170</td>\n",
       "    </tr>\n",
       "    <tr>\n",
       "      <th>329</th>\n",
       "      <td>pascagoula</td>\n",
       "      <td>ML</td>\n",
       "      <td>-3.9836</td>\n",
       "      <td>22.6783</td>\n",
       "    </tr>\n",
       "    <tr>\n",
       "      <th>619</th>\n",
       "      <td>portree</td>\n",
       "      <td>US</td>\n",
       "      <td>-99.7670</td>\n",
       "      <td>29.3669</td>\n",
       "    </tr>\n",
       "    <tr>\n",
       "      <th>643</th>\n",
       "      <td>boguchany</td>\n",
       "      <td>MX</td>\n",
       "      <td>-103.2500</td>\n",
       "      <td>25.5333</td>\n",
       "    </tr>\n",
       "  </tbody>\n",
       "</table>\n",
       "</div>"
      ],
      "text/plain": [
       "           City Country  Longitude  Latitude\n",
       "119  vila velha      SN   -14.9500   12.8833\n",
       "159      padang      MX  -109.9124   22.8909\n",
       "204        lasa      MX  -100.5167   28.7000\n",
       "258     uberaba      NG     3.8500    9.0833\n",
       "317   geraldton      US   -97.5169   28.0170\n",
       "329  pascagoula      ML    -3.9836   22.6783\n",
       "619     portree      US   -99.7670   29.3669\n",
       "643   boguchany      MX  -103.2500   25.5333"
      ]
     },
     "execution_count": 75,
     "metadata": {},
     "output_type": "execute_result"
    }
   ],
   "source": [
    "hotel_df = cw_df.loc[(cw_df['Max Temperature'] > 70) & (cw_df['Max Temperature'] < 80) \\\n",
    "                                          & (cw_df['Wind Speed'] < 10) \\\n",
    "                                          & (cw_df['Cloudiness'] < 10) \\\n",
    "                                          & (cw_df['Humidity'] < 50)].copy()\n",
    "\n",
    "hotel_df.drop(columns = ['Max Temperature', 'Wind Speed', 'Cloudiness', 'Humidity', 'Date Time'], inplace = True)\n",
    "hotel_df = hotel_df[['City', 'Country','Longitude','Latitude']]\n",
    "hotel_df"
   ]
  },
  {
   "cell_type": "code",
   "execution_count": 76,
   "metadata": {
    "scrolled": true
   },
   "outputs": [],
   "source": [
    "base_url = \"https://maps.googleapis.com/maps/api/place/nearbysearch/json\"\n",
    "params = {\n",
    "    \"location\" : None,\n",
    "    \"radius\" : 5000,\n",
    "    \"keyword\" : \"hotel\",\n",
    "    \"key\" : g_key\n",
    "}\n"
   ]
  },
  {
   "cell_type": "code",
   "execution_count": 77,
   "metadata": {
    "scrolled": false
   },
   "outputs": [
    {
     "name": "stdout",
     "output_type": "stream",
     "text": [
      "Missing field/result for Pascagoula... dropping row.\n",
      "Missing field/result for Portree... dropping row.\n"
     ]
    }
   ],
   "source": [
    "lats = []\n",
    "lngs = []\n",
    "hotels = []\n",
    "for index, row in hotel_df.iterrows():\n",
    "    params['location'] = f\"{row['Latitude']},{row['Longitude']}\"\n",
    "    hotel = requests.get(base_url, params=params).json()\n",
    "    try:\n",
    "        lats.append(hotel['results'][0]['geometry']['location']['lat'])\n",
    "        lngs.append(hotel['results'][0]['geometry']['location']['lng'])\n",
    "        hotels.append(hotel['results'][0]['name'])\n",
    "    except:\n",
    "        hotel_df.drop(index, inplace = True)\n",
    "        print(f\"Missing field/result for {row['City'].title()}... dropping row.\")\n"
   ]
  },
  {
   "cell_type": "code",
   "execution_count": 78,
   "metadata": {},
   "outputs": [
    {
     "data": {
      "text/html": [
       "<div>\n",
       "<style scoped>\n",
       "    .dataframe tbody tr th:only-of-type {\n",
       "        vertical-align: middle;\n",
       "    }\n",
       "\n",
       "    .dataframe tbody tr th {\n",
       "        vertical-align: top;\n",
       "    }\n",
       "\n",
       "    .dataframe thead th {\n",
       "        text-align: right;\n",
       "    }\n",
       "</style>\n",
       "<table border=\"1\" class=\"dataframe\">\n",
       "  <thead>\n",
       "    <tr style=\"text-align: right;\">\n",
       "      <th></th>\n",
       "      <th>City</th>\n",
       "      <th>Country</th>\n",
       "      <th>Lat</th>\n",
       "      <th>Lng</th>\n",
       "      <th>Hotel Name</th>\n",
       "    </tr>\n",
       "  </thead>\n",
       "  <tbody>\n",
       "    <tr>\n",
       "      <th>119</th>\n",
       "      <td>vila velha</td>\n",
       "      <td>SN</td>\n",
       "      <td>12.877297</td>\n",
       "      <td>-14.911203</td>\n",
       "      <td>Hôtel Relais De Kolda</td>\n",
       "    </tr>\n",
       "    <tr>\n",
       "      <th>159</th>\n",
       "      <td>padang</td>\n",
       "      <td>MX</td>\n",
       "      <td>22.890917</td>\n",
       "      <td>-109.907069</td>\n",
       "      <td>Medano Hotel and Suites</td>\n",
       "    </tr>\n",
       "    <tr>\n",
       "      <th>204</th>\n",
       "      <td>lasa</td>\n",
       "      <td>MX</td>\n",
       "      <td>28.687371</td>\n",
       "      <td>-100.558840</td>\n",
       "      <td>Hampton Inn by Hilton Piedras Negras</td>\n",
       "    </tr>\n",
       "    <tr>\n",
       "      <th>258</th>\n",
       "      <td>uberaba</td>\n",
       "      <td>NG</td>\n",
       "      <td>9.082926</td>\n",
       "      <td>3.836884</td>\n",
       "      <td>BASUAK HOTELS</td>\n",
       "    </tr>\n",
       "    <tr>\n",
       "      <th>317</th>\n",
       "      <td>geraldton</td>\n",
       "      <td>US</td>\n",
       "      <td>28.028582</td>\n",
       "      <td>-97.529505</td>\n",
       "      <td>Americas Best Value Inn Sinton</td>\n",
       "    </tr>\n",
       "    <tr>\n",
       "      <th>643</th>\n",
       "      <td>boguchany</td>\n",
       "      <td>MX</td>\n",
       "      <td>25.538512</td>\n",
       "      <td>-103.224974</td>\n",
       "      <td>HOTEL PLAZA MATAMOROS</td>\n",
       "    </tr>\n",
       "  </tbody>\n",
       "</table>\n",
       "</div>"
      ],
      "text/plain": [
       "           City Country        Lat         Lng  \\\n",
       "119  vila velha      SN  12.877297  -14.911203   \n",
       "159      padang      MX  22.890917 -109.907069   \n",
       "204        lasa      MX  28.687371 -100.558840   \n",
       "258     uberaba      NG   9.082926    3.836884   \n",
       "317   geraldton      US  28.028582  -97.529505   \n",
       "643   boguchany      MX  25.538512 -103.224974   \n",
       "\n",
       "                               Hotel Name  \n",
       "119                 Hôtel Relais De Kolda  \n",
       "159               Medano Hotel and Suites  \n",
       "204  Hampton Inn by Hilton Piedras Negras  \n",
       "258                         BASUAK HOTELS  \n",
       "317        Americas Best Value Inn Sinton  \n",
       "643                 HOTEL PLAZA MATAMOROS  "
      ]
     },
     "execution_count": 78,
     "metadata": {},
     "output_type": "execute_result"
    }
   ],
   "source": [
    "hotel_df.drop(columns = ['Latitude', 'Longitude'], inplace = True)\n",
    "hotel_df['Lat'] = lats\n",
    "hotel_df['Lng'] = lngs\n",
    "hotel_df['Hotel Name'] = hotels\n",
    "hotel_df"
   ]
  },
  {
   "cell_type": "code",
   "execution_count": 87,
   "metadata": {},
   "outputs": [
    {
     "data": {
      "application/vnd.jupyter.widget-view+json": {
       "model_id": "4a3067d8df90490fab02f8806b128262",
       "version_major": 2,
       "version_minor": 0
      },
      "text/plain": [
       "Figure(layout=FigureLayout(height='600px', width='900px'))"
      ]
     },
     "metadata": {},
     "output_type": "display_data"
    }
   ],
   "source": [
    " # NOTE: Do not change any of the code in this cell\n",
    "\n",
    "# Using the template add the hotel marks to the heatmap\n",
    "info_box_template = \"\"\"\n",
    "<dl>\n",
    "<dt>Name</dt><dd>{Hotel Name}</dd>\n",
    "<dt>City</dt><dd>{City}</dd>\n",
    "<dt>Country</dt><dd>{Country}</dd>\n",
    "</dl>\n",
    "\"\"\"\n",
    "# Store the DataFrame Row\n",
    "# NOTE: be sure to update with your DataFrame name\n",
    "hotel_info = [info_box_template.format(**row) for index, row in hotel_df.iterrows()]\n",
    "locations = hotel_df[[\"Lat\", \"Lng\"]]\n",
    "\n",
    "markers = gmaps.marker_layer(coords, info_box_content=info_box)\n",
    "fig.add_layer(markers)\n",
    "fig"
   ]
  },
  {
   "cell_type": "code",
   "execution_count": null,
   "metadata": {},
   "outputs": [],
   "source": []
  }
 ],
 "metadata": {
  "kernelspec": {
   "display_name": "Python [conda env:pythondata] *",
   "language": "python",
   "name": "conda-env-pythondata-py"
  },
  "language_info": {
   "codemirror_mode": {
    "name": "ipython",
    "version": 3
   },
   "file_extension": ".py",
   "mimetype": "text/x-python",
   "name": "python",
   "nbconvert_exporter": "python",
   "pygments_lexer": "ipython3",
   "version": "3.6.10"
  }
 },
 "nbformat": 4,
 "nbformat_minor": 4
}
