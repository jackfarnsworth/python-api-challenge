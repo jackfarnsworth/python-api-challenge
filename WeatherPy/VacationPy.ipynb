{
 "cells": [
  {
   "cell_type": "code",
   "execution_count": 1,
   "metadata": {},
   "outputs": [],
   "source": [
    "import gmaps\n",
    "import pandas as pd\n",
    "import requests\n",
    "import json\n",
    "\n",
    "# Google developer API key\n",
    "from api_keys import g_key\n",
    "from pprint import pprint\n",
    "\n",
    "# Configure gmaps\n",
    "gmaps.configure(api_key=g_key)"
   ]
  },
  {
   "cell_type": "code",
   "execution_count": 2,
   "metadata": {},
   "outputs": [
    {
     "data": {
      "text/html": [
       "<div>\n",
       "<style scoped>\n",
       "    .dataframe tbody tr th:only-of-type {\n",
       "        vertical-align: middle;\n",
       "    }\n",
       "\n",
       "    .dataframe tbody tr th {\n",
       "        vertical-align: top;\n",
       "    }\n",
       "\n",
       "    .dataframe thead th {\n",
       "        text-align: right;\n",
       "    }\n",
       "</style>\n",
       "<table border=\"1\" class=\"dataframe\">\n",
       "  <thead>\n",
       "    <tr style=\"text-align: right;\">\n",
       "      <th></th>\n",
       "      <th>City</th>\n",
       "      <th>Longitude</th>\n",
       "      <th>Latitude</th>\n",
       "      <th>Max Temperature</th>\n",
       "      <th>Humidity</th>\n",
       "      <th>Cloudiness</th>\n",
       "      <th>Wind Speed</th>\n",
       "    </tr>\n",
       "  </thead>\n",
       "  <tbody>\n",
       "    <tr>\n",
       "      <th>0</th>\n",
       "      <td>Tarascon</td>\n",
       "      <td>4.6603</td>\n",
       "      <td>43.8058</td>\n",
       "      <td>44.31</td>\n",
       "      <td>59</td>\n",
       "      <td>75</td>\n",
       "      <td>15.84</td>\n",
       "    </tr>\n",
       "    <tr>\n",
       "      <th>1</th>\n",
       "      <td>Godoy Cruz</td>\n",
       "      <td>-68.8428</td>\n",
       "      <td>-32.9252</td>\n",
       "      <td>70.41</td>\n",
       "      <td>78</td>\n",
       "      <td>40</td>\n",
       "      <td>8.05</td>\n",
       "    </tr>\n",
       "    <tr>\n",
       "      <th>2</th>\n",
       "      <td>Acarape</td>\n",
       "      <td>-38.7072</td>\n",
       "      <td>-4.2238</td>\n",
       "      <td>82.36</td>\n",
       "      <td>69</td>\n",
       "      <td>100</td>\n",
       "      <td>6.42</td>\n",
       "    </tr>\n",
       "    <tr>\n",
       "      <th>3</th>\n",
       "      <td>Cliftonville</td>\n",
       "      <td>150.9178</td>\n",
       "      <td>-33.4311</td>\n",
       "      <td>72.54</td>\n",
       "      <td>95</td>\n",
       "      <td>3</td>\n",
       "      <td>0.87</td>\n",
       "    </tr>\n",
       "    <tr>\n",
       "      <th>4</th>\n",
       "      <td>Ispra</td>\n",
       "      <td>8.6129</td>\n",
       "      <td>45.8148</td>\n",
       "      <td>45.45</td>\n",
       "      <td>75</td>\n",
       "      <td>58</td>\n",
       "      <td>1.01</td>\n",
       "    </tr>\n",
       "  </tbody>\n",
       "</table>\n",
       "</div>"
      ],
      "text/plain": [
       "           City  Longitude  Latitude  Max Temperature  Humidity  Cloudiness  \\\n",
       "0      Tarascon     4.6603   43.8058            44.31        59          75   \n",
       "1    Godoy Cruz   -68.8428  -32.9252            70.41        78          40   \n",
       "2       Acarape   -38.7072   -4.2238            82.36        69         100   \n",
       "3  Cliftonville   150.9178  -33.4311            72.54        95           3   \n",
       "4         Ispra     8.6129   45.8148            45.45        75          58   \n",
       "\n",
       "   Wind Speed  \n",
       "0       15.84  \n",
       "1        8.05  \n",
       "2        6.42  \n",
       "3        0.87  \n",
       "4        1.01  "
      ]
     },
     "execution_count": 2,
     "metadata": {},
     "output_type": "execute_result"
    }
   ],
   "source": [
    "cw_df = pd.read_csv('resources/City_Weather.csv')\n",
    "cw_df.head()"
   ]
  },
  {
   "cell_type": "code",
   "execution_count": 3,
   "metadata": {},
   "outputs": [
    {
     "data": {
      "application/vnd.jupyter.widget-view+json": {
       "model_id": "f37651ae7c2f4a31b88cbf1b60406ede",
       "version_major": 2,
       "version_minor": 0
      },
      "text/plain": [
       "Figure(layout=FigureLayout(height='420px'))"
      ]
     },
     "metadata": {},
     "output_type": "display_data"
    }
   ],
   "source": [
    "locs = cw_df[[\"Latitude\", \"Longitude\"]]\n",
    "humidity = cw_df[\"Humidity\"]\n",
    "fig = gmaps.figure()\n",
    "heat_layer = gmaps.heatmap_layer(locs, weights=humidity, \n",
    "                                 dissipating=False,\n",
    "                                 point_radius=5)\n",
    "fig.add_layer(heat_layer)\n",
    "fig"
   ]
  },
  {
   "cell_type": "code",
   "execution_count": 4,
   "metadata": {},
   "outputs": [
    {
     "data": {
      "text/html": [
       "<div>\n",
       "<style scoped>\n",
       "    .dataframe tbody tr th:only-of-type {\n",
       "        vertical-align: middle;\n",
       "    }\n",
       "\n",
       "    .dataframe tbody tr th {\n",
       "        vertical-align: top;\n",
       "    }\n",
       "\n",
       "    .dataframe thead th {\n",
       "        text-align: right;\n",
       "    }\n",
       "</style>\n",
       "<table border=\"1\" class=\"dataframe\">\n",
       "  <thead>\n",
       "    <tr style=\"text-align: right;\">\n",
       "      <th></th>\n",
       "      <th>City</th>\n",
       "      <th>Longitude</th>\n",
       "      <th>Latitude</th>\n",
       "      <th>Max Temperature</th>\n",
       "      <th>Humidity</th>\n",
       "      <th>Cloudiness</th>\n",
       "      <th>Wind Speed</th>\n",
       "    </tr>\n",
       "  </thead>\n",
       "  <tbody>\n",
       "    <tr>\n",
       "      <th>3</th>\n",
       "      <td>Cliftonville</td>\n",
       "      <td>150.9178</td>\n",
       "      <td>-33.4311</td>\n",
       "      <td>72.54</td>\n",
       "      <td>95</td>\n",
       "      <td>3</td>\n",
       "      <td>0.87</td>\n",
       "    </tr>\n",
       "    <tr>\n",
       "      <th>21</th>\n",
       "      <td>Kahla</td>\n",
       "      <td>-96.4000</td>\n",
       "      <td>16.9167</td>\n",
       "      <td>74.62</td>\n",
       "      <td>36</td>\n",
       "      <td>0</td>\n",
       "      <td>5.30</td>\n",
       "    </tr>\n",
       "    <tr>\n",
       "      <th>387</th>\n",
       "      <td>Silvania</td>\n",
       "      <td>150.6290</td>\n",
       "      <td>-35.1114</td>\n",
       "      <td>70.75</td>\n",
       "      <td>91</td>\n",
       "      <td>6</td>\n",
       "      <td>7.52</td>\n",
       "    </tr>\n",
       "    <tr>\n",
       "      <th>423</th>\n",
       "      <td>Sanctuary Point</td>\n",
       "      <td>-72.2042</td>\n",
       "      <td>19.7578</td>\n",
       "      <td>76.84</td>\n",
       "      <td>68</td>\n",
       "      <td>0</td>\n",
       "      <td>9.26</td>\n",
       "    </tr>\n",
       "    <tr>\n",
       "      <th>445</th>\n",
       "      <td>Metztitlan</td>\n",
       "      <td>-118.0417</td>\n",
       "      <td>33.9609</td>\n",
       "      <td>72.54</td>\n",
       "      <td>23</td>\n",
       "      <td>0</td>\n",
       "      <td>3.00</td>\n",
       "    </tr>\n",
       "    <tr>\n",
       "      <th>453</th>\n",
       "      <td>Serebryansk</td>\n",
       "      <td>-117.5164</td>\n",
       "      <td>33.9925</td>\n",
       "      <td>70.63</td>\n",
       "      <td>17</td>\n",
       "      <td>0</td>\n",
       "      <td>1.99</td>\n",
       "    </tr>\n",
       "    <tr>\n",
       "      <th>463</th>\n",
       "      <td>Sarmakovo</td>\n",
       "      <td>150.6167</td>\n",
       "      <td>-33.7667</td>\n",
       "      <td>71.33</td>\n",
       "      <td>91</td>\n",
       "      <td>2</td>\n",
       "      <td>2.53</td>\n",
       "    </tr>\n",
       "    <tr>\n",
       "      <th>494</th>\n",
       "      <td>Jingling</td>\n",
       "      <td>2.9386</td>\n",
       "      <td>11.1342</td>\n",
       "      <td>77.77</td>\n",
       "      <td>16</td>\n",
       "      <td>0</td>\n",
       "      <td>5.41</td>\n",
       "    </tr>\n",
       "    <tr>\n",
       "      <th>515</th>\n",
       "      <td>St. Thomas</td>\n",
       "      <td>5.1931</td>\n",
       "      <td>7.2526</td>\n",
       "      <td>79.29</td>\n",
       "      <td>23</td>\n",
       "      <td>5</td>\n",
       "      <td>2.80</td>\n",
       "    </tr>\n",
       "  </tbody>\n",
       "</table>\n",
       "</div>"
      ],
      "text/plain": [
       "                City  Longitude  Latitude  Max Temperature  Humidity  \\\n",
       "3       Cliftonville   150.9178  -33.4311            72.54        95   \n",
       "21             Kahla   -96.4000   16.9167            74.62        36   \n",
       "387         Silvania   150.6290  -35.1114            70.75        91   \n",
       "423  Sanctuary Point   -72.2042   19.7578            76.84        68   \n",
       "445       Metztitlan  -118.0417   33.9609            72.54        23   \n",
       "453      Serebryansk  -117.5164   33.9925            70.63        17   \n",
       "463        Sarmakovo   150.6167  -33.7667            71.33        91   \n",
       "494         Jingling     2.9386   11.1342            77.77        16   \n",
       "515       St. Thomas     5.1931    7.2526            79.29        23   \n",
       "\n",
       "     Cloudiness  Wind Speed  \n",
       "3             3        0.87  \n",
       "21            0        5.30  \n",
       "387           6        7.52  \n",
       "423           0        9.26  \n",
       "445           0        3.00  \n",
       "453           0        1.99  \n",
       "463           2        2.53  \n",
       "494           0        5.41  \n",
       "515           5        2.80  "
      ]
     },
     "execution_count": 4,
     "metadata": {},
     "output_type": "execute_result"
    }
   ],
   "source": [
    "good_df = cw_df.loc[(cw_df['Max Temperature'] > 70) & (cw_df['Max Temperature'] < 80) \\\n",
    "                                          & (cw_df['Wind Speed'] < 10) \\\n",
    "                                          & (cw_df['Cloudiness'] < 10)]\n",
    "good_df"
   ]
  },
  {
   "cell_type": "code",
   "execution_count": 5,
   "metadata": {
    "scrolled": true
   },
   "outputs": [],
   "source": [
    "base_url = \"https://maps.googleapis.com/maps/api/place/nearbysearch/json\"\n",
    "params = {\n",
    "    \"location\" : None,\n",
    "    \"radius\" : 5000,\n",
    "    \"keyword\" : \"hotel\",\n",
    "    \"key\" : g_key\n",
    "}\n"
   ]
  },
  {
   "cell_type": "code",
   "execution_count": 6,
   "metadata": {
    "scrolled": false
   },
   "outputs": [
    {
     "name": "stdout",
     "output_type": "stream",
     "text": [
      "Missing field/result... skipping.\n",
      "Missing field/result... skipping.\n"
     ]
    },
    {
     "data": {
      "text/plain": [
       "[(-33.4224167, 150.8950806),\n",
       " (16.9214202, -96.3631163),\n",
       " (-35.1052486, 150.6251818),\n",
       " (19.7699627, -72.1979226),\n",
       " (33.9745151, -118.0367113),\n",
       " (11.1298259, 2.9241925),\n",
       " (7.264134299999999, 5.210503000000001)]"
      ]
     },
     "execution_count": 6,
     "metadata": {},
     "output_type": "execute_result"
    }
   ],
   "source": [
    "coords = []\n",
    "hotel_info = []\n",
    "for index, row in good_df.iterrows():\n",
    "    params['location'] = f\"{row['Latitude']},{row['Longitude']}\"\n",
    "    hotel = requests.get(base_url, params=params).json()\n",
    "    try:\n",
    "        hotel_info.append({'name' : hotel['results'][0]['name'], 'city' : row['City'].title()})\n",
    "        coords.append((hotel['results'][0]['geometry']['location']['lat'],hotel['results'][0]['geometry']['location']['lng']))\n",
    "    except:\n",
    "        print(\"Missing field/result... skipping.\")\n",
    "coords"
   ]
  },
  {
   "cell_type": "code",
   "execution_count": 7,
   "metadata": {},
   "outputs": [
    {
     "data": {
      "text/plain": [
       "[{'name': 'Juniors on Hawkesbury', 'city': 'Cliftonville'},\n",
       " {'name': 'Don Cenobio', 'city': 'Kahla'},\n",
       " {'name': 'Bay & Basin Boutique Hotel', 'city': 'Silvania'},\n",
       " {'name': 'Hotel Satama', 'city': 'Sanctuary Point'},\n",
       " {'name': 'DoubleTree by Hilton Whittier Los Angeles', 'city': 'Metztitlan'},\n",
       " {'name': 'Hôtel Gb', 'city': 'Jingling'},\n",
       " {'name': 'HERITAGE CONTINENTAL HOTEL', 'city': 'St. Thomas'}]"
      ]
     },
     "execution_count": 7,
     "metadata": {},
     "output_type": "execute_result"
    }
   ],
   "source": [
    "hotel_info"
   ]
  },
  {
   "cell_type": "code",
   "execution_count": 8,
   "metadata": {},
   "outputs": [
    {
     "data": {
      "application/vnd.jupyter.widget-view+json": {
       "model_id": "f37651ae7c2f4a31b88cbf1b60406ede",
       "version_major": 2,
       "version_minor": 0
      },
      "text/plain": [
       "Figure(layout=FigureLayout(height='420px'))"
      ]
     },
     "metadata": {},
     "output_type": "display_data"
    }
   ],
   "source": [
    "info_box_template = \"\"\"\n",
    "<dl>\n",
    "<dt>Hotel Name</dt><dd>{name}</dd>\n",
    "<dt>City</dt><dd>{city}</dd>\n",
    "</dl>\n",
    "\"\"\"\n",
    "info_box = [info_box_template.format(**hotel) for hotel in hotel_info]\n",
    "markers = gmaps.marker_layer(coords, info_box_content=info_box)\n",
    "fig.add_layer(markers)\n",
    "fig"
   ]
  },
  {
   "cell_type": "code",
   "execution_count": 9,
   "metadata": {},
   "outputs": [
    {
     "ename": "NameError",
     "evalue": "name 'hotels' is not defined",
     "output_type": "error",
     "traceback": [
      "\u001b[1;31m---------------------------------------------------------------------------\u001b[0m",
      "\u001b[1;31mNameError\u001b[0m                                 Traceback (most recent call last)",
      "\u001b[1;32m<ipython-input-9-f0659cd940f9>\u001b[0m in \u001b[0;36m<module>\u001b[1;34m\u001b[0m\n\u001b[1;32m----> 1\u001b[1;33m \u001b[0mprint\u001b[0m\u001b[1;33m(\u001b[0m\u001b[0mhotels\u001b[0m\u001b[1;33m[\u001b[0m\u001b[1;34m\"results\"\u001b[0m\u001b[1;33m]\u001b[0m\u001b[1;33m[\u001b[0m\u001b[1;36m0\u001b[0m\u001b[1;33m]\u001b[0m\u001b[1;33m[\u001b[0m\u001b[1;34m\"name\"\u001b[0m\u001b[1;33m]\u001b[0m\u001b[1;33m)\u001b[0m\u001b[1;33m\u001b[0m\u001b[1;33m\u001b[0m\u001b[0m\n\u001b[0m\u001b[0;32m      2\u001b[0m \u001b[0mprint\u001b[0m\u001b[1;33m(\u001b[0m\u001b[0mhotels\u001b[0m\u001b[1;33m[\u001b[0m\u001b[1;34m\"results\"\u001b[0m\u001b[1;33m]\u001b[0m\u001b[1;33m[\u001b[0m\u001b[1;36m0\u001b[0m\u001b[1;33m]\u001b[0m\u001b[1;33m[\u001b[0m\u001b[1;34m\"vicinity\"\u001b[0m\u001b[1;33m]\u001b[0m\u001b[1;33m)\u001b[0m\u001b[1;33m\u001b[0m\u001b[1;33m\u001b[0m\u001b[0m\n",
      "\u001b[1;31mNameError\u001b[0m: name 'hotels' is not defined"
     ]
    }
   ],
   "source": [
    "print(hotels[\"results\"][0][\"name\"])\n",
    "print(hotels[\"results\"][0][\"vicinity\"])"
   ]
  },
  {
   "cell_type": "code",
   "execution_count": null,
   "metadata": {},
   "outputs": [],
   "source": []
  }
 ],
 "metadata": {
  "kernelspec": {
   "display_name": "Python [conda env:pythondata] *",
   "language": "python",
   "name": "conda-env-pythondata-py"
  },
  "language_info": {
   "codemirror_mode": {
    "name": "ipython",
    "version": 3
   },
   "file_extension": ".py",
   "mimetype": "text/x-python",
   "name": "python",
   "nbconvert_exporter": "python",
   "pygments_lexer": "ipython3",
   "version": "3.6.10"
  }
 },
 "nbformat": 4,
 "nbformat_minor": 4
}
